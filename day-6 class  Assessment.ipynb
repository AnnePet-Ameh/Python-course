{
 "cells": [
  {
   "cell_type": "code",
   "execution_count": 29,
   "id": "49639310",
   "metadata": {},
   "outputs": [
    {
     "name": "stdout",
     "output_type": "stream",
     "text": [
      "[{'name': 'jake', 'age': 30, 'M': True, 'Sex': 'ml', 'salary': 5000}, {'name': 'fani', 'age': 28, 'M': True, 'Sex': 'ml', 'salary': 2000}, {'name': 'beeniel', 'age': 25, 'M': True, 'Sex': 'fl', 'salary': 2500}, {'name': 'susan', 'age': 21, 'M': False, 'Sex': 'fl', 'salary': 3500}]\n",
      "<class 'list'>\n"
     ]
    }
   ],
   "source": [
    "dict_file = [{\"name\": \"jake\", \"age\":30, \"M\": True, \"Sex\": \"ml\", \"salary\":5000},\n",
    "            {\"name\": \"fani\", \"age\":28, \"M\": True, \"Sex\": \"ml\", \"salary\":2000}, \n",
    "            {\"name\": \"beeniel\", \"age\":25, \"M\": True, \"Sex\": \"fl\", \"salary\":2500},\n",
    "            {\"name\": \"susan\", \"age\":21, \"M\": False,\"Sex\": \"fl\", \"salary\": 3500 }\n",
    "            ]\n",
    "print(dict_file)\n",
    "print(type(dict_file))"
   ]
  },
  {
   "cell_type": "code",
   "execution_count": 30,
   "id": "1535ddd3",
   "metadata": {},
   "outputs": [
    {
     "data": {
      "text/html": [
       "<div>\n",
       "<style scoped>\n",
       "    .dataframe tbody tr th:only-of-type {\n",
       "        vertical-align: middle;\n",
       "    }\n",
       "\n",
       "    .dataframe tbody tr th {\n",
       "        vertical-align: top;\n",
       "    }\n",
       "\n",
       "    .dataframe thead th {\n",
       "        text-align: right;\n",
       "    }\n",
       "</style>\n",
       "<table border=\"1\" class=\"dataframe\">\n",
       "  <thead>\n",
       "    <tr style=\"text-align: right;\">\n",
       "      <th></th>\n",
       "      <th>name</th>\n",
       "      <th>age</th>\n",
       "      <th>M</th>\n",
       "      <th>Sex</th>\n",
       "      <th>salary</th>\n",
       "    </tr>\n",
       "  </thead>\n",
       "  <tbody>\n",
       "    <tr>\n",
       "      <th>0</th>\n",
       "      <td>jake</td>\n",
       "      <td>30</td>\n",
       "      <td>True</td>\n",
       "      <td>ml</td>\n",
       "      <td>5000</td>\n",
       "    </tr>\n",
       "    <tr>\n",
       "      <th>1</th>\n",
       "      <td>fani</td>\n",
       "      <td>28</td>\n",
       "      <td>True</td>\n",
       "      <td>ml</td>\n",
       "      <td>2000</td>\n",
       "    </tr>\n",
       "    <tr>\n",
       "      <th>2</th>\n",
       "      <td>beeniel</td>\n",
       "      <td>25</td>\n",
       "      <td>True</td>\n",
       "      <td>fl</td>\n",
       "      <td>2500</td>\n",
       "    </tr>\n",
       "    <tr>\n",
       "      <th>3</th>\n",
       "      <td>susan</td>\n",
       "      <td>21</td>\n",
       "      <td>False</td>\n",
       "      <td>fl</td>\n",
       "      <td>3500</td>\n",
       "    </tr>\n",
       "  </tbody>\n",
       "</table>\n",
       "</div>"
      ],
      "text/plain": [
       "      name  age      M Sex  salary\n",
       "0     jake   30   True  ml    5000\n",
       "1     fani   28   True  ml    2000\n",
       "2  beeniel   25   True  fl    2500\n",
       "3    susan   21  False  fl    3500"
      ]
     },
     "execution_count": 30,
     "metadata": {},
     "output_type": "execute_result"
    }
   ],
   "source": [
    "import pandas as pd\n",
    "t_df = pd.DataFrame(dict_file)\n",
    "t_df"
   ]
  },
  {
   "cell_type": "code",
   "execution_count": 31,
   "id": "de9361e9",
   "metadata": {},
   "outputs": [
    {
     "name": "stdout",
     "output_type": "stream",
     "text": [
      "[{'name': 'jake', 'age': 30, 'M': True, 'Sex': 'ml', 'salary': 5000}, {'name': 'fani', 'age': 28, 'M': True, 'Sex': 'ml', 'salary': 2000}, {'name': 'beeniel', 'age': 25, 'M': True, 'Sex': 'fl', 'salary': 2500}]\n"
     ]
    }
   ],
   "source": [
    "\n",
    "new_file = []\n",
    "for i in dict_file:\n",
    "    for a, b in i.items():\n",
    "        if a == 'M' and b == True:\n",
    "            new_file.append(i) \n",
    "print(new_file)"
   ]
  },
  {
   "cell_type": "code",
   "execution_count": 32,
   "id": "79639dce",
   "metadata": {},
   "outputs": [
    {
     "name": "stdout",
     "output_type": "stream",
     "text": [
      "[{'name': 'jake', 'age': 30, 'M': True, 'Sex': 'ml', 'salary': 5250.0}, {'name': 'fani', 'age': 28, 'M': True, 'Sex': 'ml', 'salary': 2100.0}, {'name': 'beeniel', 'age': 25, 'M': True, 'Sex': 'fl', 'salary': 2625.0}]\n"
     ]
    }
   ],
   "source": [
    "A_ans =[]\n",
    "for j in new_file:\n",
    "    for c, d in j.items():\n",
    "        if c == \"age\" and d >= 25 and d <= 30:\n",
    "            j[\"salary\"] = j[\"salary\"] * 1.05\n",
    "            A_ans.append(j)\n",
    "print(A_ans)     "
   ]
  },
  {
   "cell_type": "code",
   "execution_count": 33,
   "id": "9c5d4d7b",
   "metadata": {},
   "outputs": [
    {
     "data": {
      "text/html": [
       "<div>\n",
       "<style scoped>\n",
       "    .dataframe tbody tr th:only-of-type {\n",
       "        vertical-align: middle;\n",
       "    }\n",
       "\n",
       "    .dataframe tbody tr th {\n",
       "        vertical-align: top;\n",
       "    }\n",
       "\n",
       "    .dataframe thead th {\n",
       "        text-align: right;\n",
       "    }\n",
       "</style>\n",
       "<table border=\"1\" class=\"dataframe\">\n",
       "  <thead>\n",
       "    <tr style=\"text-align: right;\">\n",
       "      <th></th>\n",
       "      <th>name</th>\n",
       "      <th>age</th>\n",
       "      <th>M</th>\n",
       "      <th>Sex</th>\n",
       "      <th>salary</th>\n",
       "    </tr>\n",
       "  </thead>\n",
       "  <tbody>\n",
       "    <tr>\n",
       "      <th>0</th>\n",
       "      <td>jake</td>\n",
       "      <td>30</td>\n",
       "      <td>True</td>\n",
       "      <td>ml</td>\n",
       "      <td>5250.0</td>\n",
       "    </tr>\n",
       "    <tr>\n",
       "      <th>1</th>\n",
       "      <td>fani</td>\n",
       "      <td>28</td>\n",
       "      <td>True</td>\n",
       "      <td>ml</td>\n",
       "      <td>2100.0</td>\n",
       "    </tr>\n",
       "    <tr>\n",
       "      <th>2</th>\n",
       "      <td>beeniel</td>\n",
       "      <td>25</td>\n",
       "      <td>True</td>\n",
       "      <td>fl</td>\n",
       "      <td>2625.0</td>\n",
       "    </tr>\n",
       "  </tbody>\n",
       "</table>\n",
       "</div>"
      ],
      "text/plain": [
       "      name  age     M Sex  salary\n",
       "0     jake   30  True  ml  5250.0\n",
       "1     fani   28  True  ml  2100.0\n",
       "2  beeniel   25  True  fl  2625.0"
      ]
     },
     "execution_count": 33,
     "metadata": {},
     "output_type": "execute_result"
    }
   ],
   "source": [
    "A_df = pd.DataFrame(A_ans)\n",
    "A_df"
   ]
  },
  {
   "cell_type": "code",
   "execution_count": 42,
   "id": "ce4f9496",
   "metadata": {},
   "outputs": [
    {
     "name": "stdout",
     "output_type": "stream",
     "text": [
      "[{'name': 'jake', 'age': 30, 'M': True, 'Sex': 'ml', 'salary': 5250.0}, {'name': 'fani', 'age': 28, 'M': True, 'Sex': 'ml', 'salary': 2100.0}]\n"
     ]
    }
   ],
   "source": [
    "B_ans = []\n",
    "for k in new_file:\n",
    "    for e, f in k.items():\n",
    "        if e == \"Sex\" and f == \"ml\":\n",
    "            B_ans.append(k)\n",
    "print(B_ans)"
   ]
  },
  {
   "cell_type": "code",
   "execution_count": null,
   "id": "ceae4c8e",
   "metadata": {},
   "outputs": [],
   "source": []
  }
 ],
 "metadata": {
  "kernelspec": {
   "display_name": "Python 3 (ipykernel)",
   "language": "python",
   "name": "python3"
  },
  "language_info": {
   "codemirror_mode": {
    "name": "ipython",
    "version": 3
   },
   "file_extension": ".py",
   "mimetype": "text/x-python",
   "name": "python",
   "nbconvert_exporter": "python",
   "pygments_lexer": "ipython3",
   "version": "3.9.7"
  }
 },
 "nbformat": 4,
 "nbformat_minor": 5
}

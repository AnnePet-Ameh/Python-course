{
 "cells": [
  {
   "cell_type": "code",
   "execution_count": 1,
   "id": "0433de10",
   "metadata": {},
   "outputs": [
    {
     "name": "stdout",
     "output_type": "stream",
     "text": [
      " Volume in drive C has no label.\n",
      " Volume Serial Number is 048D-3BDE\n",
      "\n",
      " Directory of C:\\Users\\Ann\\Documents\\r_programming\\Rclass\\GaminatorRclass\\GaminatorPy-main\n",
      "\n",
      "06/20/2022  02:23 PM    <DIR>          .\n",
      "06/20/2022  02:23 PM    <DIR>          ..\n",
      "06/20/2022  02:23 PM    <DIR>          .ipynb_checkpoints\n",
      "06/20/2022  11:23 AM    <DIR>          data_files\n",
      "06/20/2022  11:23 AM             5,017 day_1.ipynb\n",
      "06/20/2022  11:23 AM             8,456 day_2.ipynb\n",
      "06/20/2022  11:23 AM            12,632 day_3.ipynb\n",
      "06/20/2022  11:23 AM             8,544 day_four.ipynb\n",
      "06/20/2022  11:23 AM    <DIR>          new_data\n",
      "06/20/2022  11:23 AM                40 README.md\n",
      "06/20/2022  02:23 PM                72 Untitled.ipynb\n",
      "               6 File(s)         34,761 bytes\n",
      "               5 Dir(s)  227,428,896,768 bytes free\n"
     ]
    }
   ],
   "source": [
    "ls"
   ]
  },
  {
   "cell_type": "code",
   "execution_count": 2,
   "id": "16a41e42",
   "metadata": {},
   "outputs": [
    {
     "name": "stdout",
     "output_type": "stream",
     "text": [
      "C:\\Users\\Ann\\Documents\\r_programming\\Rclass\\GaminatorRclass\\GaminatorPy-main\\data_files\n"
     ]
    }
   ],
   "source": [
    "cd data_files"
   ]
  },
  {
   "cell_type": "code",
   "execution_count": 3,
   "id": "df275c32",
   "metadata": {},
   "outputs": [
    {
     "name": "stdout",
     "output_type": "stream",
     "text": [
      " Volume in drive C has no label.\n",
      " Volume Serial Number is 048D-3BDE\n",
      "\n",
      " Directory of C:\\Users\\Ann\\Documents\\r_programming\\Rclass\\GaminatorRclass\\GaminatorPy-main\\data_files\n",
      "\n",
      "06/20/2022  11:23 AM    <DIR>          .\n",
      "06/20/2022  11:23 AM    <DIR>          ..\n",
      "06/20/2022  11:23 AM                23 new_text.txt\n",
      "               1 File(s)             23 bytes\n",
      "               2 Dir(s)  227,428,753,408 bytes free\n"
     ]
    }
   ],
   "source": [
    "ls"
   ]
  },
  {
   "cell_type": "code",
   "execution_count": 10,
   "id": "dcb6ca7b",
   "metadata": {},
   "outputs": [
    {
     "name": "stdout",
     "output_type": "stream",
     "text": [
      "['hello', 'Thanks', 'hi', 'go here']\n"
     ]
    }
   ],
   "source": [
    "file_path = \"C:/Users/Ann/Documents/r_programming/Rclass/GaminatorRclass/GaminatorPy-main/data_files/new_text.txt\"\n",
    "with open(file_path, \"r\") as file:\n",
    "    r_file = file.read().split(\"\\n\")\n",
    "print(r_file)"
   ]
  },
  {
   "cell_type": "code",
   "execution_count": 12,
   "id": "63c243c5",
   "metadata": {},
   "outputs": [],
   "source": [
    "import os"
   ]
  },
  {
   "cell_type": "code",
   "execution_count": 18,
   "id": "b754989c",
   "metadata": {},
   "outputs": [
    {
     "ename": "NotADirectoryError",
     "evalue": "[WinError 267] The directory name is invalid: 'C:/Users/Ann/Documents/r_programming/Rclass/GaminatorRclass/GaminatorPy-main/new_data/pressure_law.txt'",
     "output_type": "error",
     "traceback": [
      "\u001b[1;31m---------------------------------------------------------------------------\u001b[0m",
      "\u001b[1;31mNotADirectoryError\u001b[0m                        Traceback (most recent call last)",
      "\u001b[1;32m~\\AppData\\Local\\Temp/ipykernel_13872/3515589351.py\u001b[0m in \u001b[0;36m<module>\u001b[1;34m\u001b[0m\n\u001b[0;32m      4\u001b[0m \u001b[1;32mfor\u001b[0m \u001b[0mi\u001b[0m \u001b[1;32min\u001b[0m \u001b[0mlist_path\u001b[0m\u001b[1;33m:\u001b[0m\u001b[1;33m\u001b[0m\u001b[1;33m\u001b[0m\u001b[0m\n\u001b[0;32m      5\u001b[0m     \u001b[0mpath_file\u001b[0m \u001b[1;33m=\u001b[0m \u001b[0mpath\u001b[0m \u001b[1;33m+\u001b[0m \u001b[1;34m\"/\"\u001b[0m \u001b[1;33m+\u001b[0m \u001b[0mi\u001b[0m\u001b[1;33m\u001b[0m\u001b[1;33m\u001b[0m\u001b[0m\n\u001b[1;32m----> 6\u001b[1;33m     \u001b[0mfile_val\u001b[0m \u001b[1;33m=\u001b[0m \u001b[0mos\u001b[0m\u001b[1;33m.\u001b[0m\u001b[0mlistdir\u001b[0m\u001b[1;33m(\u001b[0m\u001b[0mpath_file\u001b[0m\u001b[1;33m)\u001b[0m\u001b[1;33m\u001b[0m\u001b[1;33m\u001b[0m\u001b[0m\n\u001b[0m\u001b[0;32m      7\u001b[0m     \u001b[1;31m#print(file_val)\u001b[0m\u001b[1;33m\u001b[0m\u001b[1;33m\u001b[0m\u001b[0m\n\u001b[0;32m      8\u001b[0m     \u001b[0mnew_path\u001b[0m \u001b[1;33m=\u001b[0m \u001b[0mpath_file\u001b[0m \u001b[1;33m+\u001b[0m \u001b[1;34m\"/\"\u001b[0m \u001b[1;33m+\u001b[0m \u001b[0mfile_val\u001b[0m\u001b[1;33m[\u001b[0m\u001b[1;33m-\u001b[0m\u001b[1;36m1\u001b[0m\u001b[1;33m]\u001b[0m\u001b[1;33m\u001b[0m\u001b[1;33m\u001b[0m\u001b[0m\n",
      "\u001b[1;31mNotADirectoryError\u001b[0m: [WinError 267] The directory name is invalid: 'C:/Users/Ann/Documents/r_programming/Rclass/GaminatorRclass/GaminatorPy-main/new_data/pressure_law.txt'"
     ]
    }
   ],
   "source": [
    "all_data = []\n",
    "path = \"C:/Users/Ann/Documents/r_programming/Rclass/GaminatorRclass/GaminatorPy-main/new_data\"\n",
    "list_path = os.listdir(path)\n",
    "for i in list_path:\n",
    "    path_file = path + \"/\" + i\n",
    "    file_val = os.listdir(path_file)\n",
    "    #print(file_val)\n",
    "    new_path = path_file + \"/\" + file_val[-1]\n",
    "    #print(new_path)\n",
    "    with open(new_path, \"r\") as file:\n",
    "        a = file.read().split()\n",
    "        all_data.append(a)\n",
    "print(all_data)\n",
    "new_data =[]\n",
    "for i in all_data:\n",
    "    a_b =[]\n",
    "    for n in i:\n",
    "        b = float(n)\n",
    "        a_b.append(b)\n",
    "    new_data.append(a_b)\n",
    "print(new_data)   "
   ]
  },
  {
   "cell_type": "code",
   "execution_count": null,
   "id": "e6970322",
   "metadata": {},
   "outputs": [],
   "source": [
    "data_val = []\n",
    "for i in new_data:\n",
    "    if len(i) < 7:\n",
    "        i.append(2.5)\n",
    "    data_val.append(i)\n",
    "print(data_val)"
   ]
  },
  {
   "cell_type": "code",
   "execution_count": null,
   "id": "afd5908c",
   "metadata": {},
   "outputs": [],
   "source": [
    "new_file =\"C:\\Users\\Ann\\Documents\\r_programming\\Rclass\\GaminatorRclass\\GaminatorPy-main\\new_data\\pressure_law.txt\"\n",
    "print(\"\"\"Enter the commands\n",
    " press 1 => to write files\n",
    " press 0 => to clear backlogs\n",
    " \"\"\")\n",
    "enter_press = input(\"enter commands: \")\n",
    "\n",
    "if enter_press == \"1\" :\n",
    "    file_w = open(new_file, \"a\")\n",
    "    for i in range(0, len(data_val[1])):\n",
    "        k_p = data_val[0][i]/data_val[1][i]\n",
    "        file_w.write(f\"{k_p}\\n\")\n",
    "elif enter_press == \"0\":\n",
    "    file_w = open(new_file, \"w\")\n",
    "    file_w.write(\" \")\n",
    "    \n",
    "else:\n",
    "    print(\"inputs invalid\")\n",
    "\n",
    "    \n",
    "    "
   ]
  }
 ],
 "metadata": {
  "kernelspec": {
   "display_name": "Python 3 (ipykernel)",
   "language": "python",
   "name": "python3"
  },
  "language_info": {
   "codemirror_mode": {
    "name": "ipython",
    "version": 3
   },
   "file_extension": ".py",
   "mimetype": "text/x-python",
   "name": "python",
   "nbconvert_exporter": "python",
   "pygments_lexer": "ipython3",
   "version": "3.9.7"
  }
 },
 "nbformat": 4,
 "nbformat_minor": 5
}
